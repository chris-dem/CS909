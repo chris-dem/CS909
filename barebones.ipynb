{
  "nbformat": 4,
  "nbformat_minor": 0,
  "metadata": {
    "colab": {
      "name": "barebones.ipynb",
      "provenance": [],
      "toc_visible": true,
      "authorship_tag": "ABX9TyNH5hlxJafOj48oHzFpSO1U",
      "include_colab_link": true
    },
    "kernelspec": {
      "name": "python3",
      "display_name": "Python 3"
    }
  },
  "cells": [
    {
      "cell_type": "markdown",
      "metadata": {
        "id": "view-in-github",
        "colab_type": "text"
      },
      "source": [
        "<a href=\"https://colab.research.google.com/github/foxtrotmike/CS909/blob/master/barebones.ipynb\" target=\"_parent\"><img src=\"https://colab.research.google.com/assets/colab-badge.svg\" alt=\"Open In Colab\"/></a>"
      ]
    },
    {
      "cell_type": "markdown",
      "source": [
        "# The Representation, Evaluation and Optimization Framework in PyTorch\n",
        "\n",
        "(Fayyaz Minhas)\n",
        "\n",
        "Machine learning models, at their core, consist of three main components: Representation, Evaluation, and Optimization. Understanding these components is crucial for developing and training models effectively. In this tutorial, we'll explore these concepts through a single neuron model example implemented in PyTorch, a popular machine learning library.\n",
        "\n",
        "\n",
        "## Representation\n",
        "\n",
        "In machine learning, representation refers to how input data is transformed into a form that the model can understand and work with. This transformation is achieved through a combination of model architecture and the weights that define the specific model instance.\n",
        "\n",
        "###  Linear or Single Neuron Model\n",
        "Our example focuses on a linear model or a single neuron model, which can be thought of as the simplest form of a neural network. This neuron takes inputs, applies a weighted sum followed by an activation function (if any), and produces an output. The weights (including a bias term) determine how much influence each input has on the output.\n",
        "\n",
        "## Evaluation\n",
        "Evaluation is about measuring how well the model performs. This measurement is done using a loss function, which quantifies the difference between the predicted outputs of the model and the actual target values.\n",
        "\n",
        "### Loss Functions\n",
        "In our example, different loss functions are implemented, such as hinge loss, squared loss, and logistic loss. These functions evaluate the performance of our model during training. The choice of loss function depends on the specific problem being solved.\n",
        "\n",
        "## Optimization\n",
        "Optimization is the process of adjusting the model's weights to minimize the loss. This process involves calculating gradients (using automatic differentiation [https://en.wikipedia.org/wiki/Automatic_differentiation]) and updating the weights in the direction that reduces the loss.\n",
        "\n",
        "### Gradient Descent\n",
        "Our model uses gradient descent for optimization, facilitated by PyTorch's automatic differentiation and optimization tools. The backward() method calculates gradients, and the optimizer updates the weights.\n",
        "\n",
        "\n",
        "Let's dive in. You can ignore the plotting code below.\n"
      ],
      "metadata": {
        "id": "Ol_GhsNv0893"
      }
    },
    {
      "cell_type": "markdown",
      "source": [
        "Understanding Automatic Differentiation: A Functional Perspective\n",
        "Automatic differentiation (AD) is a powerful technique used in machine learning and numerical computations to efficiently and accurately calculate derivatives of functions. This concept is crucial for optimizing functions, such as loss functions in neural networks, where we need to adjust parameters to minimize loss. Let's explore AD through a simple PyTorch example, focusing on its functional perspective.\n",
        "\n",
        "The Basics of Automatic Differentiation\n",
        "Automatic differentiation computes the derivative of a function automatically through the computation graph. A computation graph is a representation of the function where nodes represent operations or variables, and edges represent the flow of data. AD computes derivatives using the chain rule, traversing this graph from outputs back to inputs.\n",
        "\n",
        "A Simple Example with PyTorch\n",
        "PyTorch is a popular library that supports automatic differentiation via its autograd system. Let's consider a simple function to understand how AD works:\n",
        "$$P(w) = w^2$$\n",
        "\n",
        "where $w$ is a variable.\n",
        "\n",
        "Step 1: Define the Function and Variable\n",
        "First, we define a function P and a variable w with requires_grad=True, which tells PyTorch to track operations on w for automatic differentiation.\n"
      ],
      "metadata": {
        "id": "aV94QX3xDC4S"
      }
    },
    {
      "cell_type": "code",
      "source": [
        "import torch\n",
        "\n",
        "def P_fun(w):\n",
        "    return w**2\n",
        "\n",
        "w = torch.randn(1, requires_grad=True)\n",
        "print(w)"
      ],
      "metadata": {
        "id": "2A7iFQmBDTcv",
        "outputId": "4dc3d607-ff54-4df9-eee4-6ca13d99d4b7",
        "colab": {
          "base_uri": "https://localhost:8080/"
        }
      },
      "execution_count": 6,
      "outputs": [
        {
          "output_type": "stream",
          "name": "stdout",
          "text": [
            "tensor([0.2444], requires_grad=True)\n"
          ]
        }
      ]
    },
    {
      "cell_type": "markdown",
      "source": [
        "In this code, torch.randn(1, requires_grad=True) creates a tensor with a random value, and requires_grad=True indicates that we want PyTorch to compute gradients with respect to this tensor.\n",
        "\n",
        "Step 2: Compute the Output\n",
        "We then compute the output of the function P(w) for our variable w."
      ],
      "metadata": {
        "id": "UV9uI_o0DUNc"
      }
    },
    {
      "cell_type": "code",
      "source": [
        "out = P_fun(w)"
      ],
      "metadata": {
        "id": "SEQoRl8IA7IY"
      },
      "execution_count": 7,
      "outputs": []
    },
    {
      "cell_type": "markdown",
      "source": [
        "This step involves applying the function P to  w, resulting in out, which represents P(w).\n",
        "\n",
        "Step 3: Automatic Differentiation with backward()\n",
        "To compute the derivative of P with respect to w, we invoke out.backward(). This call computes the gradient of out with respect to all variables that have requires_grad=True."
      ],
      "metadata": {
        "id": "RyjGQfPIDdJg"
      }
    },
    {
      "cell_type": "code",
      "source": [
        "out.backward()"
      ],
      "metadata": {
        "id": "EhokcfOODvZg"
      },
      "execution_count": 8,
      "outputs": []
    },
    {
      "cell_type": "markdown",
      "source": [
        "Step 4: Accessing the Gradient\n",
        "Finally, to access the gradient of w, we use w.grad. This gives us the derivative of P(w) with respect to w, evaluated at the value of w.\n",
        "\n"
      ],
      "metadata": {
        "id": "oxgjL0m_D12X"
      }
    },
    {
      "cell_type": "code",
      "source": [
        "print(w.grad)\n"
      ],
      "metadata": {
        "id": "Ga_A_aBtD1Fq",
        "outputId": "dcaa19d8-428c-4dfc-b337-f08f4a123a5c",
        "colab": {
          "base_uri": "https://localhost:8080/"
        }
      },
      "execution_count": 9,
      "outputs": [
        {
          "output_type": "stream",
          "name": "stdout",
          "text": [
            "tensor([0.4888])\n"
          ]
        }
      ]
    },
    {
      "cell_type": "code",
      "source": [],
      "metadata": {
        "id": "VfE4yfboDM4K",
        "outputId": "52653c9a-8b62-4e9a-d6e4-2f5a0bb5749b",
        "colab": {
          "base_uri": "https://localhost:8080/",
          "height": 760
        }
      },
      "execution_count": 11,
      "outputs": [
        {
          "output_type": "stream",
          "name": "stdout",
          "text": [
            "Requirement already satisfied: torchviz in /usr/local/lib/python3.10/dist-packages (0.0.2)\n",
            "Requirement already satisfied: torch in /usr/local/lib/python3.10/dist-packages (from torchviz) (2.3.1+cu121)\n",
            "Requirement already satisfied: graphviz in /usr/local/lib/python3.10/dist-packages (from torchviz) (0.20.3)\n",
            "Requirement already satisfied: filelock in /usr/local/lib/python3.10/dist-packages (from torch->torchviz) (3.15.4)\n",
            "Requirement already satisfied: typing-extensions>=4.8.0 in /usr/local/lib/python3.10/dist-packages (from torch->torchviz) (4.12.2)\n",
            "Requirement already satisfied: sympy in /usr/local/lib/python3.10/dist-packages (from torch->torchviz) (1.13.1)\n",
            "Requirement already satisfied: networkx in /usr/local/lib/python3.10/dist-packages (from torch->torchviz) (3.3)\n",
            "Requirement already satisfied: jinja2 in /usr/local/lib/python3.10/dist-packages (from torch->torchviz) (3.1.4)\n",
            "Requirement already satisfied: fsspec in /usr/local/lib/python3.10/dist-packages (from torch->torchviz) (2024.6.1)\n",
            "Requirement already satisfied: nvidia-cuda-nvrtc-cu12==12.1.105 in /usr/local/lib/python3.10/dist-packages (from torch->torchviz) (12.1.105)\n",
            "Requirement already satisfied: nvidia-cuda-runtime-cu12==12.1.105 in /usr/local/lib/python3.10/dist-packages (from torch->torchviz) (12.1.105)\n",
            "Requirement already satisfied: nvidia-cuda-cupti-cu12==12.1.105 in /usr/local/lib/python3.10/dist-packages (from torch->torchviz) (12.1.105)\n",
            "Requirement already satisfied: nvidia-cudnn-cu12==8.9.2.26 in /usr/local/lib/python3.10/dist-packages (from torch->torchviz) (8.9.2.26)\n",
            "Requirement already satisfied: nvidia-cublas-cu12==12.1.3.1 in /usr/local/lib/python3.10/dist-packages (from torch->torchviz) (12.1.3.1)\n",
            "Requirement already satisfied: nvidia-cufft-cu12==11.0.2.54 in /usr/local/lib/python3.10/dist-packages (from torch->torchviz) (11.0.2.54)\n",
            "Requirement already satisfied: nvidia-curand-cu12==10.3.2.106 in /usr/local/lib/python3.10/dist-packages (from torch->torchviz) (10.3.2.106)\n",
            "Requirement already satisfied: nvidia-cusolver-cu12==11.4.5.107 in /usr/local/lib/python3.10/dist-packages (from torch->torchviz) (11.4.5.107)\n",
            "Requirement already satisfied: nvidia-cusparse-cu12==12.1.0.106 in /usr/local/lib/python3.10/dist-packages (from torch->torchviz) (12.1.0.106)\n",
            "Requirement already satisfied: nvidia-nccl-cu12==2.20.5 in /usr/local/lib/python3.10/dist-packages (from torch->torchviz) (2.20.5)\n",
            "Requirement already satisfied: nvidia-nvtx-cu12==12.1.105 in /usr/local/lib/python3.10/dist-packages (from torch->torchviz) (12.1.105)\n",
            "Requirement already satisfied: triton==2.3.1 in /usr/local/lib/python3.10/dist-packages (from torch->torchviz) (2.3.1)\n",
            "Requirement already satisfied: nvidia-nvjitlink-cu12 in /usr/local/lib/python3.10/dist-packages (from nvidia-cusolver-cu12==11.4.5.107->torch->torchviz) (12.6.20)\n",
            "Requirement already satisfied: MarkupSafe>=2.0 in /usr/local/lib/python3.10/dist-packages (from jinja2->torch->torchviz) (2.1.5)\n",
            "Requirement already satisfied: mpmath<1.4,>=1.1.0 in /usr/local/lib/python3.10/dist-packages (from sympy->torch->torchviz) (1.3.0)\n"
          ]
        },
        {
          "output_type": "execute_result",
          "data": {
            "image/svg+xml": "<?xml version=\"1.0\" encoding=\"UTF-8\" standalone=\"no\"?>\n<!DOCTYPE svg PUBLIC \"-//W3C//DTD SVG 1.1//EN\"\n \"http://www.w3.org/Graphics/SVG/1.1/DTD/svg11.dtd\">\n<!-- Generated by graphviz version 2.43.0 (0)\n -->\n<!-- Title: %3 Pages: 1 -->\n<svg width=\"109pt\" height=\"216pt\"\n viewBox=\"0.00 0.00 109.00 216.00\" xmlns=\"http://www.w3.org/2000/svg\" xmlns:xlink=\"http://www.w3.org/1999/xlink\">\n<g id=\"graph0\" class=\"graph\" transform=\"scale(1 1) rotate(0) translate(4 212)\">\n<title>%3</title>\n<polygon fill=\"white\" stroke=\"transparent\" points=\"-4,4 -4,-212 105,-212 105,4 -4,4\"/>\n<!-- 138068632572592 -->\n<g id=\"node1\" class=\"node\">\n<title>138068632572592</title>\n<polygon fill=\"#caff70\" stroke=\"black\" points=\"77.5,-31 23.5,-31 23.5,0 77.5,0 77.5,-31\"/>\n<text text-anchor=\"middle\" x=\"50.5\" y=\"-7\" font-family=\"monospace\" font-size=\"10.00\"> (1)</text>\n</g>\n<!-- 138068630744000 -->\n<g id=\"node2\" class=\"node\">\n<title>138068630744000</title>\n<polygon fill=\"lightgrey\" stroke=\"black\" points=\"95,-86 6,-86 6,-67 95,-67 95,-86\"/>\n<text text-anchor=\"middle\" x=\"50.5\" y=\"-74\" font-family=\"monospace\" font-size=\"10.00\">PowBackward0</text>\n</g>\n<!-- 138068630744000&#45;&gt;138068632572592 -->\n<g id=\"edge3\" class=\"edge\">\n<title>138068630744000&#45;&gt;138068632572592</title>\n<path fill=\"none\" stroke=\"black\" d=\"M50.5,-66.79C50.5,-60.07 50.5,-50.4 50.5,-41.34\"/>\n<polygon fill=\"black\" stroke=\"black\" points=\"54,-41.19 50.5,-31.19 47,-41.19 54,-41.19\"/>\n</g>\n<!-- 138068630741744 -->\n<g id=\"node3\" class=\"node\">\n<title>138068630741744</title>\n<polygon fill=\"lightgrey\" stroke=\"black\" points=\"101,-141 0,-141 0,-122 101,-122 101,-141\"/>\n<text text-anchor=\"middle\" x=\"50.5\" y=\"-129\" font-family=\"monospace\" font-size=\"10.00\">AccumulateGrad</text>\n</g>\n<!-- 138068630741744&#45;&gt;138068630744000 -->\n<g id=\"edge1\" class=\"edge\">\n<title>138068630741744&#45;&gt;138068630744000</title>\n<path fill=\"none\" stroke=\"black\" d=\"M50.5,-121.75C50.5,-114.8 50.5,-104.85 50.5,-96.13\"/>\n<polygon fill=\"black\" stroke=\"black\" points=\"54,-96.09 50.5,-86.09 47,-96.09 54,-96.09\"/>\n</g>\n<!-- 138068643747200 -->\n<g id=\"node4\" class=\"node\">\n<title>138068643747200</title>\n<polygon fill=\"lightblue\" stroke=\"black\" points=\"77.5,-208 23.5,-208 23.5,-177 77.5,-177 77.5,-208\"/>\n<text text-anchor=\"middle\" x=\"50.5\" y=\"-184\" font-family=\"monospace\" font-size=\"10.00\"> (1)</text>\n</g>\n<!-- 138068643747200&#45;&gt;138068630741744 -->\n<g id=\"edge2\" class=\"edge\">\n<title>138068643747200&#45;&gt;138068630741744</title>\n<path fill=\"none\" stroke=\"black\" d=\"M50.5,-176.92C50.5,-169.22 50.5,-159.69 50.5,-151.43\"/>\n<polygon fill=\"black\" stroke=\"black\" points=\"54,-151.25 50.5,-141.25 47,-151.25 54,-151.25\"/>\n</g>\n</g>\n</svg>\n",
            "text/plain": [
              "<graphviz.graphs.Digraph at 0x7d929bb09ae0>"
            ]
          },
          "metadata": {},
          "execution_count": 11
        }
      ]
    },
    {
      "cell_type": "markdown",
      "source": [
        "This prints the gradient of P(w) = w*w which is 2w, evaluated at the current value of w.\n",
        "\n",
        "Understanding the Functional Perspective\n",
        "From a functional perspective, automatic differentiation allows us to abstract away the derivative computation. We simply define the function in terms of basic operations and let AD handle the complex derivative calculations. This is incredibly powerful for machine learning, where the functions (like neural networks) can be highly complex.\n",
        "\n",
        "The key takeaways are:\n",
        "\n",
        "* Automatic Differentiation: Efficiently computes derivatives using the computation graph and the chain rule.\n",
        "\n",
        "* Functional Abstraction: Allows us to focus on defining functions without worrying about how to differentiate them.\n",
        "* PyTorch and autograd: Provides a user-friendly interface for AD, enabling deep learning and other computational tasks.\n",
        "\n",
        "Optional:\n",
        "\n",
        "Wiew the computational graph of the computation resulting in calculating \"out\" using the code below. As the derivative function of each function in the graph is defined, automatic differentiation allows us to compute the derivative of the output with respect to all parameters (w in this case).\n",
        "\n",
        "\n",
        "\n"
      ],
      "metadata": {
        "id": "_HKGP_5rD86f"
      }
    },
    {
      "cell_type": "code",
      "source": [
        "!pip install torchviz\n",
        "from torchviz import make_dot\n",
        "make_dot(out,params=dict(w=w))"
      ],
      "metadata": {
        "id": "qLSrvvJlD6i8",
        "outputId": "7e7d84dd-a921-453b-cef1-b2975037a90a",
        "colab": {
          "base_uri": "https://localhost:8080/",
          "height": 759
        }
      },
      "execution_count": 12,
      "outputs": [
        {
          "output_type": "stream",
          "name": "stdout",
          "text": [
            "Requirement already satisfied: torchviz in /usr/local/lib/python3.10/dist-packages (0.0.2)\n",
            "Requirement already satisfied: torch in /usr/local/lib/python3.10/dist-packages (from torchviz) (2.3.1+cu121)\n",
            "Requirement already satisfied: graphviz in /usr/local/lib/python3.10/dist-packages (from torchviz) (0.20.3)\n",
            "Requirement already satisfied: filelock in /usr/local/lib/python3.10/dist-packages (from torch->torchviz) (3.15.4)\n",
            "Requirement already satisfied: typing-extensions>=4.8.0 in /usr/local/lib/python3.10/dist-packages (from torch->torchviz) (4.12.2)\n",
            "Requirement already satisfied: sympy in /usr/local/lib/python3.10/dist-packages (from torch->torchviz) (1.13.1)\n",
            "Requirement already satisfied: networkx in /usr/local/lib/python3.10/dist-packages (from torch->torchviz) (3.3)\n",
            "Requirement already satisfied: jinja2 in /usr/local/lib/python3.10/dist-packages (from torch->torchviz) (3.1.4)\n",
            "Requirement already satisfied: fsspec in /usr/local/lib/python3.10/dist-packages (from torch->torchviz) (2024.6.1)\n",
            "Requirement already satisfied: nvidia-cuda-nvrtc-cu12==12.1.105 in /usr/local/lib/python3.10/dist-packages (from torch->torchviz) (12.1.105)\n",
            "Requirement already satisfied: nvidia-cuda-runtime-cu12==12.1.105 in /usr/local/lib/python3.10/dist-packages (from torch->torchviz) (12.1.105)\n",
            "Requirement already satisfied: nvidia-cuda-cupti-cu12==12.1.105 in /usr/local/lib/python3.10/dist-packages (from torch->torchviz) (12.1.105)\n",
            "Requirement already satisfied: nvidia-cudnn-cu12==8.9.2.26 in /usr/local/lib/python3.10/dist-packages (from torch->torchviz) (8.9.2.26)\n",
            "Requirement already satisfied: nvidia-cublas-cu12==12.1.3.1 in /usr/local/lib/python3.10/dist-packages (from torch->torchviz) (12.1.3.1)\n",
            "Requirement already satisfied: nvidia-cufft-cu12==11.0.2.54 in /usr/local/lib/python3.10/dist-packages (from torch->torchviz) (11.0.2.54)\n",
            "Requirement already satisfied: nvidia-curand-cu12==10.3.2.106 in /usr/local/lib/python3.10/dist-packages (from torch->torchviz) (10.3.2.106)\n",
            "Requirement already satisfied: nvidia-cusolver-cu12==11.4.5.107 in /usr/local/lib/python3.10/dist-packages (from torch->torchviz) (11.4.5.107)\n",
            "Requirement already satisfied: nvidia-cusparse-cu12==12.1.0.106 in /usr/local/lib/python3.10/dist-packages (from torch->torchviz) (12.1.0.106)\n",
            "Requirement already satisfied: nvidia-nccl-cu12==2.20.5 in /usr/local/lib/python3.10/dist-packages (from torch->torchviz) (2.20.5)\n",
            "Requirement already satisfied: nvidia-nvtx-cu12==12.1.105 in /usr/local/lib/python3.10/dist-packages (from torch->torchviz) (12.1.105)\n",
            "Requirement already satisfied: triton==2.3.1 in /usr/local/lib/python3.10/dist-packages (from torch->torchviz) (2.3.1)\n",
            "Requirement already satisfied: nvidia-nvjitlink-cu12 in /usr/local/lib/python3.10/dist-packages (from nvidia-cusolver-cu12==11.4.5.107->torch->torchviz) (12.6.20)\n",
            "Requirement already satisfied: MarkupSafe>=2.0 in /usr/local/lib/python3.10/dist-packages (from jinja2->torch->torchviz) (2.1.5)\n",
            "Requirement already satisfied: mpmath<1.4,>=1.1.0 in /usr/local/lib/python3.10/dist-packages (from sympy->torch->torchviz) (1.3.0)\n"
          ]
        },
        {
          "output_type": "execute_result",
          "data": {
            "image/svg+xml": "<?xml version=\"1.0\" encoding=\"UTF-8\" standalone=\"no\"?>\n<!DOCTYPE svg PUBLIC \"-//W3C//DTD SVG 1.1//EN\"\n \"http://www.w3.org/Graphics/SVG/1.1/DTD/svg11.dtd\">\n<!-- Generated by graphviz version 2.43.0 (0)\n -->\n<!-- Title: %3 Pages: 1 -->\n<svg width=\"109pt\" height=\"215pt\"\n viewBox=\"0.00 0.00 109.00 215.00\" xmlns=\"http://www.w3.org/2000/svg\" xmlns:xlink=\"http://www.w3.org/1999/xlink\">\n<g id=\"graph0\" class=\"graph\" transform=\"scale(1 1) rotate(0) translate(4 211)\">\n<title>%3</title>\n<polygon fill=\"white\" stroke=\"transparent\" points=\"-4,4 -4,-211 105,-211 105,4 -4,4\"/>\n<!-- 138068632572592 -->\n<g id=\"node1\" class=\"node\">\n<title>138068632572592</title>\n<polygon fill=\"#caff70\" stroke=\"black\" points=\"77.5,-31 23.5,-31 23.5,0 77.5,0 77.5,-31\"/>\n<text text-anchor=\"middle\" x=\"50.5\" y=\"-7\" font-family=\"monospace\" font-size=\"10.00\"> (1)</text>\n</g>\n<!-- 138068630749136 -->\n<g id=\"node2\" class=\"node\">\n<title>138068630749136</title>\n<polygon fill=\"lightgrey\" stroke=\"black\" points=\"95,-86 6,-86 6,-67 95,-67 95,-86\"/>\n<text text-anchor=\"middle\" x=\"50.5\" y=\"-74\" font-family=\"monospace\" font-size=\"10.00\">PowBackward0</text>\n</g>\n<!-- 138068630749136&#45;&gt;138068632572592 -->\n<g id=\"edge3\" class=\"edge\">\n<title>138068630749136&#45;&gt;138068632572592</title>\n<path fill=\"none\" stroke=\"black\" d=\"M50.5,-66.79C50.5,-60.07 50.5,-50.4 50.5,-41.34\"/>\n<polygon fill=\"black\" stroke=\"black\" points=\"54,-41.19 50.5,-31.19 47,-41.19 54,-41.19\"/>\n</g>\n<!-- 138068630748080 -->\n<g id=\"node3\" class=\"node\">\n<title>138068630748080</title>\n<polygon fill=\"lightgrey\" stroke=\"black\" points=\"101,-141 0,-141 0,-122 101,-122 101,-141\"/>\n<text text-anchor=\"middle\" x=\"50.5\" y=\"-129\" font-family=\"monospace\" font-size=\"10.00\">AccumulateGrad</text>\n</g>\n<!-- 138068630748080&#45;&gt;138068630749136 -->\n<g id=\"edge1\" class=\"edge\">\n<title>138068630748080&#45;&gt;138068630749136</title>\n<path fill=\"none\" stroke=\"black\" d=\"M50.5,-121.75C50.5,-114.8 50.5,-104.85 50.5,-96.13\"/>\n<polygon fill=\"black\" stroke=\"black\" points=\"54,-96.09 50.5,-86.09 47,-96.09 54,-96.09\"/>\n</g>\n<!-- 138068643747200 -->\n<g id=\"node4\" class=\"node\">\n<title>138068643747200</title>\n<polygon fill=\"lightblue\" stroke=\"black\" points=\"77.5,-207 23.5,-207 23.5,-177 77.5,-177 77.5,-207\"/>\n<text text-anchor=\"middle\" x=\"50.5\" y=\"-195\" font-family=\"monospace\" font-size=\"10.00\">w</text>\n<text text-anchor=\"middle\" x=\"50.5\" y=\"-184\" font-family=\"monospace\" font-size=\"10.00\"> (1)</text>\n</g>\n<!-- 138068643747200&#45;&gt;138068630748080 -->\n<g id=\"edge2\" class=\"edge\">\n<title>138068643747200&#45;&gt;138068630748080</title>\n<path fill=\"none\" stroke=\"black\" d=\"M50.5,-176.84C50.5,-169.21 50.5,-159.7 50.5,-151.45\"/>\n<polygon fill=\"black\" stroke=\"black\" points=\"54,-151.27 50.5,-141.27 47,-151.27 54,-151.27\"/>\n</g>\n</g>\n</svg>\n",
            "text/plain": [
              "<graphviz.graphs.Digraph at 0x7d929bb0a500>"
            ]
          },
          "metadata": {},
          "execution_count": 12
        }
      ]
    },
    {
      "cell_type": "markdown",
      "source": [
        "Optional: You can also try a more complex computation, e.g., out = (w1+w2)*(w2+1) and compute the derivative with respect to that."
      ],
      "metadata": {
        "id": "0E1Zrv2OErIv"
      }
    },
    {
      "cell_type": "code",
      "source": [
        "# Code goes here"
      ],
      "metadata": {
        "id": "YM0uQtnDEp5-"
      },
      "execution_count": null,
      "outputs": []
    },
    {
      "cell_type": "markdown",
      "source": [
        "Let's dive in to solve an optimization problem using the REO framework with automatic differentiation provided by PyTorch.\n",
        "\n",
        "## REO with PyTorch\n",
        "\n",
        "You can ignore the plotting code below."
      ],
      "metadata": {
        "id": "7HuupQrsEMrz"
      }
    },
    {
      "cell_type": "code",
      "metadata": {
        "id": "Znhwloohk7Bj"
      },
      "source": [
        "# -*- coding: utf-8 -*-\n",
        "\"\"\"\n",
        "@author: Dr. Fayyaz Minhas\n",
        "2D Scatter Plotter for Classification\n",
        "\"\"\"\n",
        "from numpy.random import randn #importing randn\n",
        "import numpy as np #importing numpy\n",
        "import matplotlib.pyplot as plt #importing plotting module\n",
        "import itertools\n",
        "import warnings\n",
        "\n",
        "def plotit(X,Y=None,clf=None,  conts = None, ccolors = ('b','k','r'), colors = ('c','y'), markers = ('s','o'), hold = False, transform = None,extent = None,**kwargs):\n",
        "    \"\"\"\n",
        "    A function for showing data scatter plot and classification boundary\n",
        "    of a classifier for 2D data\n",
        "        X: nxd  matrix of data points\n",
        "        Y: (optional) n vector of class labels\n",
        "        clf: (optional) classification/discriminant function handle\n",
        "        conts: (optional) contours (if None, contours are drawn for each class boundary)\n",
        "        ccolors: (optional) colors for contours\n",
        "        colors: (optional) colors for each class (sorted wrt class id)\n",
        "            can be 'scaled' or 'random' or a list/tuple of color ids\n",
        "        markers: (optional) markers for each class (sorted wrt class id)\n",
        "        hold: Whether to hold the plot or not for overlay (default: False).\n",
        "        transform: (optional) a function handle for transforming data before passing to clf\n",
        "        kwargs: any keyword arguments to be passed to clf (if any)\n",
        "    \"\"\"\n",
        "    if clf is not None and X.shape[1]!=2:\n",
        "        warnings.warn(\"Data Dimensionality is not 2. Unable to plot.\")\n",
        "        return\n",
        "    if markers is None:\n",
        "        markers = ('.',)\n",
        "    eps=1e-6\n",
        "    d0,d1 = (0,1)\n",
        "    if extent is None:\n",
        "        minx, maxx = np.min(X[:,d0])-eps, np.max(X[:,d0])+eps\n",
        "        miny, maxy = np.min(X[:,d1])-eps, np.max(X[:,d1])+eps\n",
        "        extent = [minx,maxx,miny,maxy]\n",
        "    else:\n",
        "        [minx,maxx,miny,maxy] = extent\n",
        "    if Y is not None:\n",
        "        classes = sorted(set(Y))\n",
        "        if conts is None or len(conts)<2:\n",
        "            #conts = list(classes)\n",
        "            vmin,vmax = classes[0]-eps,classes[-1]+eps\n",
        "        else:\n",
        "            vmin,vmax= np.min(conts)-eps,np.max(conts)+eps\n",
        "\n",
        "    else:\n",
        "        vmin,vmax=-2-eps,2+eps\n",
        "        if conts is None or len(conts)<2:\n",
        "            conts = sorted([-1+eps,0,1-eps])\n",
        "        else:\n",
        "            vmin,vmax= np.min(conts)-eps,np.max(conts)+eps\n",
        "\n",
        "    if clf is not None:\n",
        "        npts = 150\n",
        "        x = np.linspace(minx,maxx,npts)\n",
        "        y = np.linspace(miny,maxy,npts)\n",
        "        t = np.array(list(itertools.product(x,y)))\n",
        "        if transform is not None:\n",
        "            t = transform(t)\n",
        "        z = clf(t,**kwargs)\n",
        "\n",
        "        z = np.reshape(z,(npts,npts)).T\n",
        "\n",
        "\n",
        "        plt.contour(x,y,z,conts,linewidths = [2],colors=ccolors,extent=extent, label='f(x)=0')\n",
        "        #plt.imshow(np.flipud(z), extent = extent, cmap=plt.cm.Purples, vmin = -2, vmax = +2); plt.colorbar()\n",
        "        plt.pcolormesh(x, y, z,cmap=plt.cm.Purples,vmin=vmin,vmax=vmax);plt.colorbar()\n",
        "        plt.axis(extent)\n",
        "\n",
        "    if Y is not None:\n",
        "        for i,y in enumerate(classes):\n",
        "\n",
        "            if colors is None or colors=='scaled':\n",
        "                cc = np.array([[i,i,i]])/float(len(classes))\n",
        "            elif colors =='random':\n",
        "                cc = np.array([[np.random.rand(),np.random.rand(),np.random.rand()]])\n",
        "            else:\n",
        "                cc = colors[i%len(colors)]\n",
        "\n",
        "            mm = markers[i%len(markers)]\n",
        "            plt.scatter(X[Y==y,d0],X[Y==y,d1], marker = mm,c = cc, s = 50)\n",
        "\n",
        "    else:\n",
        "        plt.scatter(X[:,d0],X[:,d1],marker = markers[0], c = 'k', s = 5)\n",
        "    plt.xlabel('$x_1$')\n",
        "    plt.ylabel('$x_2$')\n",
        "    if not hold:\n",
        "        plt.grid()\n",
        "        plt.show()\n",
        "    return extent\n"
      ],
      "execution_count": null,
      "outputs": []
    },
    {
      "cell_type": "code",
      "metadata": {
        "id": "TG-En3BVlBGG",
        "colab": {
          "base_uri": "https://localhost:8080/",
          "height": 979
        },
        "outputId": "f4182286-cc87-4a37-9351-2855e77a9e0b"
      },
      "source": [
        "\"\"\"\n",
        "Author: Fayyaz Minhas\n",
        "A barebones single neuron model example with pytorch\n",
        "You will need plotit for this (https://github.com/foxtrotmike/plotit)\n",
        "Demonstrates:\n",
        "    Representation, Evaluation and Optimization\n",
        "    concept of loss functions, SRM objective function\n",
        "    automatic differentiation\n",
        "    optimization\n",
        "\n",
        "\"\"\"\n",
        "import numpy as np\n",
        "import matplotlib.pyplot as plt\n",
        "import torch\n",
        "import torch.nn.modules as nn\n",
        "import torch.optim as optim\n",
        "\n",
        "#Let's generate some data\n",
        "#inputs = 2*np.array([[0,0],[0,1],[1,0],[1,1]],dtype=np.float)-1\n",
        "#targets = np.array([-1,-1,-1,1],dtype=np.float)\n",
        "inputs = np.array([[-1,0],[0,1],[4,4],[2,3]])\n",
        "targets = np.array([-1,-1,+1,+1])\n",
        "device = torch.device('cpu')\n",
        "#device = torch.device('cuda') # Uncomment this to run on GPU\n",
        "x = torch.from_numpy(inputs).float()\n",
        "y = torch.from_numpy(targets).float()\n",
        "N, D_in,D_out = x.shape[0], x.shape[1], 1\n",
        "# Loss function implementation\n",
        "def hinge(y_true, y_pred):\n",
        "    zero = torch.Tensor([0])\n",
        "    return torch.max(zero, 1 - y_true * y_pred)\n",
        "def sq_loss(y_true,y_pred):\n",
        "    return (y_true-y_pred)**2\n",
        "def logistic_loss(y_true,y_pred):\n",
        "    return torch.log(1+torch.exp(- y_true * y_pred))\n",
        "# Other loss functions can also be implemented\n",
        "eps = 1e-6\n",
        "# Create random Tensors for weights; setting requires_grad=True means that we\n",
        "# want to compute gradients for these Tensors during the backward pass.\n",
        "wb = torch.randn(D_in+1, device=device, requires_grad=True)\n",
        "#Note: we have added one additional weight (for bias)\n",
        "learning_rate = 0.01\n",
        "optimizer = optim.SGD([wb], lr=learning_rate)\n",
        "L = [] #history of losses\n",
        "for epoch in range(500):\n",
        "  # Forward pass: compute predicted y using operations on Tensors. Since w1\n",
        "  # has requires_grad=True, operations involving w1 will cause\n",
        "  # PyTorch to build a computational graph, allowing automatic computation of\n",
        "  # gradients.\n",
        "  epoch_loss = 0.0\n",
        "  for i in range(len(y)):\n",
        "      \"\"\"\n",
        "      # REPRESENTATION\n",
        "      \"\"\"\n",
        "      w = wb[1:]\n",
        "      b = wb[0]\n",
        "      y_pred = torch.dot(w,x[i,:])+b #Implementing w'x+b\n",
        "      \"\"\"\n",
        "      # EVALUATION\n",
        "      \"\"\"\n",
        "      # Compute and print loss. Loss is a Tensor of shape (), and loss.item()\n",
        "      # is a Python number giving its value.\n",
        "      #loss = (y_pred - y).pow(2).mean() #loss = lossf(y_pred,y)\n",
        "      loss = hinge(y[i],y_pred)\n",
        "      #loss = logistic_loss(y_true,y_pred)\n",
        "      obj = loss+0.0*torch.dot(w,w) #empirical loss + regularization\n",
        "      epoch_loss+=loss#.item()\n",
        "\n",
        "      \"\"\"\n",
        "      #OPTIMIZATION\n",
        "      \"\"\"\n",
        "      # Use autograd to compute the backward pass. This call will compute the\n",
        "      # gradient of loss with respect to all Tensors with requires_grad=True.\n",
        "      # After this call w1.grad will be Tensors holding the gradient\n",
        "      # of the loss with respect to w1.\n",
        "      obj.backward()\n",
        "\n",
        "      # Update weights using gradient descent. For this step we just want to mutate\n",
        "      # the values of w1 in-place; we don't want to build up a computational\n",
        "      # graph for the update steps, so we use the torch.no_grad() context manager\n",
        "      # to prevent PyTorch from building a computational graph for the updates\n",
        "      \"\"\"\n",
        "      with torch.no_grad():\n",
        "          wb = wb - learning_rate * wb.grad\n",
        "      wb.requires_grad = True\n",
        "      \"\"\"\n",
        "      # Using built-in optimizer\n",
        "      optimizer.step()\n",
        "      optimizer.zero_grad()\n",
        "  L.append(epoch_loss.detach().numpy()) #save for history and plotting\n",
        "\n",
        "\n",
        "wbn = wb.detach().numpy()\n",
        "def clf(inputs):\n",
        "  return inputs@wbn[1:]+wbn[0]\n",
        "plt.close(\"all\")\n",
        "plt.plot(L)\n",
        "plt.grid(); plt.xlabel('Epochs'); plt.ylabel('value');plt.legend(['Loss','Objective'])\n",
        "print(\"Predictions: \",clf(inputs))\n",
        "print(\"Weights: \",wbn)\n",
        "plt.figure()\n",
        "\n",
        "\n",
        "plotit(inputs,targets,clf=clf,conts=[0],extent = [-5,+5,-5,+5])"
      ],
      "execution_count": null,
      "outputs": [
        {
          "output_type": "stream",
          "name": "stdout",
          "text": [
            "Predictions:  [-2.19611228 -1.01003903  4.56219423  1.36210746]\n",
            "Weights:  [-0.18209875  2.0140135  -0.8279403 ]\n"
          ]
        },
        {
          "output_type": "stream",
          "name": "stderr",
          "text": [
            "<ipython-input-1-f24289a3a1b3>:68: UserWarning: The following kwargs were not used by contour: 'label'\n",
            "  plt.contour(x,y,z,conts,linewidths = [2],colors=ccolors,extent=extent, label='f(x)=0')\n"
          ]
        },
        {
          "output_type": "display_data",
          "data": {
            "text/plain": [
              "<Figure size 640x480 with 1 Axes>"
            ],
            "image/png": "[encoded data removed]"
          },
          "metadata": {}
        },
        {
          "output_type": "display_data",
          "data": {
            "text/plain": [
              "<Figure size 640x480 with 2 Axes>"
            ],
            "image/png": "[encoded data removed]"
          },
          "metadata": {}
        },
        {
          "output_type": "execute_result",
          "data": {
            "text/plain": [
              "[-5, 5, -5, 5]"
            ]
          },
          "metadata": {},
          "execution_count": 2
        }
      ]
    },
    {
      "cell_type": "markdown",
      "source": [
        "## Exercise Questions\n",
        "\n",
        "What happens if you:\n",
        "1. change the input from bipolar to binary\n",
        "2. change the targets from bipolar to binary\n",
        "3. change the loss function\n",
        "4. change the activation function. See if you can add an activation function (such as torch.tanh on the net input (y_pred) and study its impact on the classification? For prediction labels such as +1/-1, is it okay to use Rectified Linear (ReLU) activation?\n",
        "5. change the regularization parameter\n",
        "6. change the learning rate\n",
        "\n",
        "Can you solve a linearly inseparable classification problem with this code? How?\n",
        "\n",
        "Can you solve a regression problem with this approach?\n"
      ],
      "metadata": {
        "id": "32hvAFyO1zBX"
      }
    }
  ]
}