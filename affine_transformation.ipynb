{
  "nbformat": 4,
  "nbformat_minor": 0,
  "metadata": {
    "colab": {
      "provenance": [],
      "authorship_tag": "ABX9TyMPZAwSkOmPyXjLxNodw7Wh",
      "include_colab_link": true
    },
    "kernelspec": {
      "name": "python3",
      "display_name": "Python 3"
    },
    "language_info": {
      "name": "python"
    }
  },
  "cells": [
    {
      "cell_type": "markdown",
      "metadata": {
        "id": "view-in-github",
        "colab_type": "text"
      },
      "source": [
        "<a href=\"https://colab.research.google.com/github/foxtrotmike/CS909/blob/master/affine_transformation.ipynb\" target=\"_parent\"><img src=\"https://colab.research.google.com/assets/colab-badge.svg\" alt=\"Open In Colab\"/></a>"
      ]
    },
    {
      "cell_type": "code",
      "execution_count": 6,
      "metadata": {
        "colab": {
          "base_uri": "https://localhost:8080/"
        },
        "id": "KO2wAQkPdQpP",
        "outputId": "94706547-aef9-44e0-bd1a-2a94952ec2c0"
      },
      "outputs": [
        {
          "output_type": "stream",
          "name": "stdout",
          "text": [
            "Original Transformation Matrix:\n",
            " [[-1.29903811  0.75        2.        ]\n",
            " [-0.75       -1.29903811  3.        ]\n",
            " [ 0.          0.          1.        ]]\n",
            "Recovered Transformation Matrix:\n",
            " [[-1.29903811  0.75        2.        ]\n",
            " [-0.75       -1.29903811  3.        ]\n",
            " [ 0.          0.          1.        ]]\n",
            "Transformation matrices are close: True\n"
          ]
        }
      ],
      "source": [
        "import numpy as np\n",
        "\n",
        "class AffineTransformation:\n",
        "    def __init__(self):\n",
        "        self.transformation_matrix = None\n",
        "\n",
        "    def compute_transformation_matrix(self, X, Y):\n",
        "        # Recovers affine transformation to map X to Y\n",
        "        # Ensure X and Y are numpy arrays\n",
        "        X = np.array(X)\n",
        "        Y = np.array(Y)\n",
        "\n",
        "        # Calculate the centroids of both sets\n",
        "        centroid_X = np.mean(X, axis=0)\n",
        "        centroid_Y = np.mean(Y, axis=0)\n",
        "\n",
        "        # Center the points\n",
        "        X_centered = X - centroid_X\n",
        "        Y_centered = Y - centroid_Y\n",
        "\n",
        "        # Calculate the scaling factor\n",
        "        norm_X = np.linalg.norm(X_centered)\n",
        "        norm_Y = np.linalg.norm(Y_centered)\n",
        "        scale = norm_Y / norm_X\n",
        "\n",
        "        # Scale the centered points\n",
        "        X_scaled = X_centered * scale\n",
        "\n",
        "        # Calculate the rotation using Singular Value Decomposition (SVD)\n",
        "        U, S, Vt = np.linalg.svd(np.dot(Y_centered.T, X_scaled))\n",
        "        R = np.dot(U, Vt)\n",
        "\n",
        "        # Combine the transformations\n",
        "        self.transformation_matrix = np.eye(3)\n",
        "        self.transformation_matrix[:2, :2] = scale * R\n",
        "        self.transformation_matrix[:2, 2] = centroid_Y - scale * np.dot(R, centroid_X)\n",
        "\n",
        "    def transform_points(self, points):\n",
        "        if self.transformation_matrix is None:\n",
        "            raise ValueError(\"Transformation matrix has not been computed yet.\")\n",
        "\n",
        "        # Ensure points are numpy arrays and homogeneous coordinates\n",
        "        points = np.array(points)\n",
        "        ones = np.ones((points.shape[0], 1))\n",
        "        points_homogeneous = np.hstack((points, ones))\n",
        "\n",
        "        # Apply the transformation\n",
        "        transformed_points_homogeneous = np.dot(self.transformation_matrix, points_homogeneous.T).T\n",
        "\n",
        "        # Convert back to Cartesian coordinates\n",
        "        transformed_points = transformed_points_homogeneous[:, :2]\n",
        "        return transformed_points\n",
        "if __name__=='__main__':\n",
        "  # Generate test points\n",
        "  np.random.seed(42)\n",
        "  points_X = np.random.rand(10, 2) * 10  # 10 random points in 2D\n",
        "\n",
        "  # Define a known transformation matrix (scaling, rotation, translation)\n",
        "  scale = 1.5\n",
        "  theta = np.radians(30)\n",
        "  translation = np.array([2, 3])\n",
        "\n",
        "  R = np.array([\n",
        "      [np.cos(theta), -np.sin(theta)],\n",
        "      [np.sin(theta), np.cos(theta)]\n",
        "  ])\n",
        "\n",
        "  transformation_matrix = np.eye(3)\n",
        "  transformation_matrix[:2, :2] = scale * R\n",
        "  transformation_matrix[:2, 2] = translation\n",
        "\n",
        "  # Apply the known transformation to points_X\n",
        "  affine_transformation = AffineTransformation()\n",
        "  affine_transformation.transformation_matrix = transformation_matrix\n",
        "  points_Y = affine_transformation.transform_points(points_X)\n",
        "\n",
        "  # Recover the transformation matrix using the compute_transformation_matrix method\n",
        "  recovered_affine_transformation = AffineTransformation()\n",
        "  recovered_affine_transformation.compute_transformation_matrix(points_X, points_Y)\n",
        "\n",
        "  # Print results\n",
        "  print(\"Original Transformation Matrix:\\n\", transformation_matrix)\n",
        "  print(\"Recovered Transformation Matrix:\\n\", recovered_affine_transformation.transformation_matrix)\n",
        "\n",
        "  # Check if the recovered transformation matrix is close to the original one\n",
        "  print(\"Transformation matrices are close:\", np.allclose(transformation_matrix, recovered_affine_transformation.transformation_matrix))\n"
      ]
    },
    {
      "cell_type": "code",
      "source": [
        "recovered_affine_transformation.transform_points(points_X)"
      ],
      "metadata": {
        "colab": {
          "base_uri": "https://localhost:8080/"
        },
        "id": "D3J7Do7BdR2g",
        "outputId": "4db5bb5e-5919-4bb0-a37e-d96652bf6546"
      },
      "execution_count": 11,
      "outputs": [
        {
          "output_type": "execute_result",
          "data": {
            "text/plain": [
              "array([[  4.26493843, -12.15919201],\n",
              "       [ -3.0189416 , -10.2667564 ],\n",
              "       [  1.14321731,  -0.19656807],\n",
              "       [  7.74179284,  -8.68758529],\n",
              "       [ -0.49816873, -10.70649519],\n",
              "       [  9.00692347,  -9.75388228],\n",
              "       [ -7.22120378,  -6.00168577],\n",
              "       [  1.01355821,  -0.74618172],\n",
              "       [  1.98345057,  -6.09860283],\n",
              "       [ -1.42691184,  -4.02276515]])"
            ]
          },
          "metadata": {},
          "execution_count": 11
        }
      ]
    },
    {
      "cell_type": "code",
      "source": [
        "points_Y"
      ],
      "metadata": {
        "colab": {
          "base_uri": "https://localhost:8080/"
        },
        "id": "vs-SfI5Eet0n",
        "outputId": "de9c4f89-2ef6-4af4-edd0-aa29ebec91b9"
      },
      "execution_count": 10,
      "outputs": [
        {
          "output_type": "execute_result",
          "data": {
            "text/plain": [
              "array([[  4.26493843, -12.15919201],\n",
              "       [ -3.0189416 , -10.2667564 ],\n",
              "       [  1.14321731,  -0.19656807],\n",
              "       [  7.74179284,  -8.68758529],\n",
              "       [ -0.49816873, -10.70649519],\n",
              "       [  9.00692347,  -9.75388228],\n",
              "       [ -7.22120378,  -6.00168577],\n",
              "       [  1.01355821,  -0.74618172],\n",
              "       [  1.98345057,  -6.09860283],\n",
              "       [ -1.42691184,  -4.02276515]])"
            ]
          },
          "metadata": {},
          "execution_count": 10
        }
      ]
    },
    {
      "cell_type": "code",
      "source": [],
      "metadata": {
        "id": "e6thFkCXexF3"
      },
      "execution_count": null,
      "outputs": []
    }
  ]
}