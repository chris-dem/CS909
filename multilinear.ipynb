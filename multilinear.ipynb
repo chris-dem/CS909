{
  "nbformat": 4,
  "nbformat_minor": 0,
  "metadata": {
    "colab": {
      "provenance": [],
      "authorship_tag": "ABX9TyONN1Pmvr9Kr+9xSNnf4Zxd",
      "include_colab_link": true
    },
    "kernelspec": {
      "name": "python3",
      "display_name": "Python 3"
    },
    "language_info": {
      "name": "python"
    }
  },
  "cells": [
    {
      "cell_type": "markdown",
      "metadata": {
        "id": "view-in-github",
        "colab_type": "text"
      },
      "source": [
        "<a href=\"https://colab.research.google.com/github/foxtrotmike/CS909/blob/master/multilinear.ipynb\" target=\"_parent\"><img src=\"https://colab.research.google.com/assets/colab-badge.svg\" alt=\"Open In Colab\"/></a>"
      ]
    },
    {
      "cell_type": "code",
      "execution_count": 2,
      "metadata": {
        "id": "vdXb96aFRW18"
      },
      "outputs": [],
      "source": [
        "import torch\n",
        "import torch.nn as nn\n",
        "import math\n",
        "class Multilinear(nn.Module):\n",
        "    def __init__(self, input_sizes, output_size):\n",
        "        super(Multilinear, self).__init__()\n",
        "        self.weight = nn.Parameter(torch.Tensor(*input_sizes, output_size))\n",
        "        self.bias = nn.Parameter(torch.Tensor(output_size))\n",
        "        self.reset_parameters()\n",
        "\n",
        "    def reset_parameters(self):\n",
        "        nn.init.kaiming_uniform_(self.weight, a=math.sqrt(5))\n",
        "        if self.bias is not None:\n",
        "            fan_in, _ = nn.init._calculate_fan_in_and_fan_out(self.weight)\n",
        "            bound = 1 / math.sqrt(fan_in)\n",
        "            nn.init.uniform_(self.bias, -bound, bound)\n",
        "\n",
        "    def forward(self, *inputs):\n",
        "        result = torch.einsum('...i,...j,...k,ijkl->...l', *inputs, self.weight)\n",
        "        if self.bias is not None:\n",
        "            result += self.bias\n",
        "        return result\n",
        "\n",
        "# Example usage\n",
        "x1 = torch.randn(10, 5)  # Batch size of 10, input size 5\n",
        "x2 = torch.randn(10, 4)  # Batch size of 10, input size 4\n",
        "x3 = torch.randn(10, 6)  # Batch size of 10, input size 6\n",
        "\n",
        "layer = Multilinear((5, 4, 6), 7)  # Output size 7\n",
        "output = layer(x1, x2, x3)\n"
      ]
    },
    {
      "cell_type": "code",
      "source": [
        "output.shape"
      ],
      "metadata": {
        "colab": {
          "base_uri": "https://localhost:8080/"
        },
        "id": "iLNa8G4rRYw8",
        "outputId": "22343ee8-51a9-4319-9c13-dea0167f4665"
      },
      "execution_count": 4,
      "outputs": [
        {
          "output_type": "execute_result",
          "data": {
            "text/plain": [
              "torch.Size([10, 7])"
            ]
          },
          "metadata": {},
          "execution_count": 4
        }
      ]
    },
    {
      "cell_type": "code",
      "source": [],
      "metadata": {
        "id": "-Xl0rG65RYEE"
      },
      "execution_count": null,
      "outputs": []
    }
  ]
}