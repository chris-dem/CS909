{
  "nbformat": 4,
  "nbformat_minor": 0,
  "metadata": {
    "colab": {
      "provenance": [],
      "authorship_tag": "ABX9TyMiu9R47KctEgFC3V/Zp25L",
      "include_colab_link": true
    },
    "kernelspec": {
      "name": "python3",
      "display_name": "Python 3"
    },
    "language_info": {
      "name": "python"
    }
  },
  "cells": [
    {
      "cell_type": "markdown",
      "metadata": {
        "id": "view-in-github",
        "colab_type": "text"
      },
      "source": [
        "<a href=\"https://colab.research.google.com/github/foxtrotmike/CS909/blob/master/multilinear.ipynb\" target=\"_parent\"><img src=\"https://colab.research.google.com/assets/colab-badge.svg\" alt=\"Open In Colab\"/></a>"
      ]
    },
    {
      "cell_type": "code",
      "execution_count": 11,
      "metadata": {
        "id": "vdXb96aFRW18"
      },
      "outputs": [],
      "source": [
        "import torch\n",
        "import torch.nn as nn\n",
        "import math\n",
        "import torch\n",
        "import torch.nn as nn\n",
        "\n",
        "class AdditiveMultiplicativeLayer(nn.Module):\n",
        "    def __init__(self, input_sizes, output_size):\n",
        "        super(AdditiveMultiplicativeLayer, self).__init__()\n",
        "\n",
        "        # Weight tensors for multiplicative interaction\n",
        "        self.weight_mul = nn.Parameter(torch.Tensor(*input_sizes, output_size))\n",
        "\n",
        "        # Weight tensors and biases for additive interaction\n",
        "        self.weight_add = nn.Parameter(torch.Tensor(sum(input_sizes), output_size))\n",
        "        self.bias = nn.Parameter(torch.Tensor(output_size))\n",
        "\n",
        "        self.reset_parameters()\n",
        "\n",
        "    def reset_parameters(self):\n",
        "        nn.init.kaiming_uniform_(self.weight_mul, a=math.sqrt(5))\n",
        "        nn.init.kaiming_uniform_(self.weight_add, a=math.sqrt(5))\n",
        "        if self.bias is not None:\n",
        "            fan_in, _ = nn.init._calculate_fan_in_and_fan_out(self.weight_add)\n",
        "            bound = 1 / math.sqrt(fan_in)\n",
        "            nn.init.uniform_(self.bias, -bound, bound)\n",
        "\n",
        "    def forward(self, *inputs):\n",
        "        # Concatenate inputs for additive interaction\n",
        "        concatenated_inputs = torch.cat(inputs, dim=-1)\n",
        "\n",
        "        # Compute multiplicative interaction\n",
        "        multiplicative_output = torch.einsum('...i,...j,...k,ijkl->...l', *inputs, self.weight_mul)\n",
        "\n",
        "        # Compute additive interaction\n",
        "        additive_output = torch.matmul(concatenated_inputs, self.weight_add) + self.bias\n",
        "\n",
        "        # Combine both interactions\n",
        "        output = multiplicative_output + additive_output\n",
        "        return output\n",
        "\n",
        "# Example usage\n",
        "x1 = torch.randn(10, 5)  # Batch size of 10, input size 5\n",
        "x2 = torch.randn(10, 4)  # Batch size of 10, input size 4\n",
        "x3 = torch.randn(10, 6)  # Batch size of 10, input size 6\n",
        "\n",
        "layer = AdditiveMultiplicativeLayer((5, 4, 6), 7)  # Output size 7\n",
        "output = layer(x1, x2, x3)\n"
      ]
    },
    {
      "cell_type": "code",
      "source": [
        "output.shape"
      ],
      "metadata": {
        "colab": {
          "base_uri": "https://localhost:8080/"
        },
        "id": "iLNa8G4rRYw8",
        "outputId": "fe58ac83-c6ae-42b0-d965-164436a501d1"
      },
      "execution_count": 12,
      "outputs": [
        {
          "output_type": "execute_result",
          "data": {
            "text/plain": [
              "torch.Size([10, 7])"
            ]
          },
          "metadata": {},
          "execution_count": 12
        }
      ]
    },
    {
      "cell_type": "code",
      "source": [
        "layer.weight_mul.shape"
      ],
      "metadata": {
        "colab": {
          "base_uri": "https://localhost:8080/"
        },
        "id": "-Xl0rG65RYEE",
        "outputId": "13a23c5d-1be5-45c6-9488-ea6e352e0c1c"
      },
      "execution_count": 16,
      "outputs": [
        {
          "output_type": "execute_result",
          "data": {
            "text/plain": [
              "torch.Size([5, 4, 6, 7])"
            ]
          },
          "metadata": {},
          "execution_count": 16
        }
      ]
    },
    {
      "cell_type": "code",
      "source": [],
      "metadata": {
        "id": "YCdOrRkRSNrL"
      },
      "execution_count": null,
      "outputs": []
    }
  ]
}