{
  "nbformat": 4,
  "nbformat_minor": 0,
  "metadata": {
    "colab": {
      "provenance": [],
      "authorship_tag": "ABX9TyMQIpHqiWC666CMc8BixYes",
      "include_colab_link": true
    },
    "kernelspec": {
      "name": "python3",
      "display_name": "Python 3"
    },
    "language_info": {
      "name": "python"
    }
  },
  "cells": [
    {
      "cell_type": "markdown",
      "metadata": {
        "id": "view-in-github",
        "colab_type": "text"
      },
      "source": [
        "<a href=\"https://colab.research.google.com/github/foxtrotmike/CS909/blob/master/soft_decision_tree_pytorch.ipynb\" target=\"_parent\"><img src=\"https://colab.research.google.com/assets/colab-badge.svg\" alt=\"Open In Colab\"/></a>"
      ]
    },
    {
      "cell_type": "code",
      "execution_count": 28,
      "metadata": {
        "id": "szvxwt7FEF6s"
      },
      "outputs": [],
      "source": [
        "import torch\n",
        "import torch.nn as nn\n",
        "import torch.optim as optim\n",
        "import torch.nn.functional as F\n",
        "import matplotlib.pyplot as plt\n",
        "import numpy as np\n",
        "import itertools\n",
        "from sklearn.datasets import make_moons\n",
        "from sklearn.model_selection import train_test_split\n",
        "from sklearn.preprocessing import StandardScaler\n",
        "\n",
        "def plotit(X, Y=None, clf=None, conts=None, ccolors=('b','k','r'), colors=('c','y'), markers=('s','o'), hold=False, transform=None, extent=None, **kwargs):\n",
        "    eps = 1e-6\n",
        "    d0, d1 = (0,1)\n",
        "    if extent is None:\n",
        "        minx, maxx = np.min(X[:,d0])-eps, np.max(X[:,d0])+eps\n",
        "        miny, maxy = np.min(X[:,d1])-eps, np.max(X[:,d1])+eps\n",
        "        extent = [minx, maxx, miny, maxy]\n",
        "    else:\n",
        "        [minx, maxx, miny, maxy] = extent\n",
        "\n",
        "    if clf is not None:\n",
        "        npts = 150\n",
        "        x = np.linspace(minx, maxx, npts)\n",
        "        y = np.linspace(miny, maxy, npts)\n",
        "        t = np.array(list(itertools.product(x, y)))\n",
        "        if transform is not None:\n",
        "            t = transform(t)\n",
        "        z = clf(t, **kwargs)\n",
        "        z = np.reshape(z, (npts, npts)).T\n",
        "        plt.contour(x, y, z, conts, linewidths=[2], colors=ccolors, extent=extent, label='f(x)=0')\n",
        "        plt.pcolormesh(x, y, z, cmap=plt.cm.Purples, vmin=0, vmax=2)\n",
        "        plt.colorbar()\n",
        "        plt.axis(extent)\n",
        "\n",
        "    if Y is not None:\n",
        "        classes = sorted(set(Y))\n",
        "        for i, y in enumerate(classes):\n",
        "            plt.scatter(X[Y==y, d0], X[Y==y, d1], marker=markers[i%len(markers)], c=colors[i%len(colors)], s=50)\n",
        "\n",
        "    plt.xlabel('$x_1$')\n",
        "    plt.ylabel('$x_2$')\n",
        "    if not hold:\n",
        "        plt.grid()\n",
        "        plt.show()\n",
        "    return extent\n"
      ]
    },
    {
      "cell_type": "code",
      "source": [
        "import torch\n",
        "import torch.nn as nn\n",
        "import torch.optim as optim\n",
        "import torch.nn.functional as F\n",
        "import matplotlib.pyplot as plt\n",
        "from sklearn.datasets import make_moons\n",
        "from sklearn.model_selection import train_test_split\n",
        "from sklearn.preprocessing import StandardScaler\n",
        "\n",
        "class DecisionNode(nn.Module):\n",
        "    def __init__(self, input_dim):\n",
        "        super(DecisionNode, self).__init__()\n",
        "        self.weight = nn.Parameter(torch.randn(input_dim))\n",
        "        self.bias = nn.Parameter(torch.randn(1))\n",
        "        self.left = None  # Left child\n",
        "        self.right = None  # Right child\n",
        "        self.tau = 0.001\n",
        "    def forward(self, x):\n",
        "        return torch.sigmoid((torch.matmul(x, self.weight) + self.bias)/self.tau)\n",
        "\n",
        "class DecisionTree(nn.Module):\n",
        "    def __init__(self, input_dim, depth=3, num_classes=2):\n",
        "        super(DecisionTree, self).__init__()\n",
        "        self.depth = depth\n",
        "        self.num_classes = num_classes\n",
        "        self.root = self.build_tree(input_dim, depth)\n",
        "        self.leaf_logits = nn.Parameter(torch.randn(2 ** depth, num_classes))\n",
        "\n",
        "    def build_tree(self, input_dim, depth):\n",
        "        if depth == 0:\n",
        "            return None\n",
        "        node = DecisionNode(input_dim)\n",
        "        node.left = self.build_tree(input_dim, depth - 1)\n",
        "        node.right = self.build_tree(input_dim, depth - 1)\n",
        "        return node\n",
        "\n",
        "    def traverse_tree(self, node, x, path_probs):\n",
        "        if node is None:\n",
        "            return path_probs\n",
        "        decision = node.forward(x)\n",
        "        left_prob = path_probs * decision\n",
        "        right_prob = path_probs * (1 - decision)\n",
        "\n",
        "        if node.left is None and node.right is None:\n",
        "            return torch.stack([left_prob, right_prob], dim=-1)\n",
        "\n",
        "        left_path = self.traverse_tree(node.left, x, left_prob)\n",
        "        right_path = self.traverse_tree(node.right, x, right_prob)\n",
        "        return torch.cat([left_path, right_path], dim=-1)\n",
        "\n",
        "    def forward(self, x):\n",
        "        batch_size = x.size(0)\n",
        "        path_probs = torch.ones(batch_size, device=x.device)\n",
        "        leaf_probs = self.traverse_tree(self.root, x, path_probs)\n",
        "        logits = torch.matmul(leaf_probs, self.leaf_logits)\n",
        "        return logits\n",
        "\n",
        "    def compute_loss(self, x, y, lambda_tree=0.01):\n",
        "        logits = self.forward(x)\n",
        "        classification_loss = F.cross_entropy(logits, y)\n",
        "        tree_complexity = sum(torch.sum(torch.abs(p)) for p in self.parameters())\n",
        "        total_loss = classification_loss + lambda_tree * tree_complexity\n",
        "        return total_loss\n",
        "\n",
        "    def compute_accuracy(self, x, y):\n",
        "        logits = self.forward(x)\n",
        "        predictions = torch.argmax(logits, dim=1)\n",
        "        accuracy = (predictions == y).float().mean()\n",
        "        return accuracy.item()\n",
        "\n",
        "# Generate 2D demo dataset\n",
        "X, y = make_moons(n_samples=300, noise=0.2, random_state=42)\n",
        "X_train, X_test, y_train, y_test = train_test_split(X, y, test_size=0.2, random_state=42)\n",
        "scaler = StandardScaler()\n",
        "X_train = scaler.fit_transform(X_train)\n",
        "X_test = scaler.transform(X_test)\n",
        "X_train_tensor = torch.tensor(X_train, dtype=torch.float32)\n",
        "y_train_tensor = torch.tensor(y_train, dtype=torch.long)\n",
        "X_test_tensor = torch.tensor(X_test, dtype=torch.float32)\n",
        "y_test_tensor = torch.tensor(y_test, dtype=torch.long)\n",
        "\n",
        "# Train the decision tree\n",
        "input_dim = 2  # 2D dataset\n",
        "num_classes = 2  # Binary classification\n",
        "depth = 5  # Depth of the tree\n",
        "\n",
        "model = DecisionTree(input_dim, depth, num_classes)\n",
        "optimizer = optim.Adam(model.parameters(), lr=0.01)\n",
        "\n",
        "for epoch in range(100):\n",
        "    optimizer.zero_grad()\n",
        "    loss = model.compute_loss(X_train_tensor, y_train_tensor)\n",
        "    loss.backward()\n",
        "    optimizer.step()\n",
        "\n",
        "    if epoch % 10 == 0:\n",
        "        train_accuracy = model.compute_accuracy(X_train_tensor, y_train_tensor)\n",
        "        test_accuracy = model.compute_accuracy(X_test_tensor, y_test_tensor)\n",
        "        print(f\"Epoch {epoch}, Loss: {loss.item()}, Train Accuracy: {train_accuracy * 100:.2f}%, Test Accuracy: {test_accuracy * 100:.2f}%\")\n",
        "\n",
        "# Explanation:\n",
        "# This implementation builds a decision tree where each node makes a decision based on a learned weight and bias.\n",
        "# The tree is trained using a synthetic 2D dataset from sklearn (moons dataset).\n",
        "# The dataset is normalized using StandardScaler and split into training and testing sets.\n",
        "# Training minimizes a loss function combining classification error and tree complexity.\n"
      ],
      "metadata": {
        "colab": {
          "base_uri": "https://localhost:8080/"
        },
        "id": "sTj8azKwEXiR",
        "outputId": "42d7b94f-5654-4f42-9741-44e2b21da445"
      },
      "execution_count": 33,
      "outputs": [
        {
          "output_type": "stream",
          "name": "stdout",
          "text": [
            "Epoch 0, Loss: 1.9776322841644287, Train Accuracy: 65.42%, Test Accuracy: 61.67%\n",
            "Epoch 10, Loss: 1.6845550537109375, Train Accuracy: 80.42%, Test Accuracy: 80.00%\n",
            "Epoch 20, Loss: 1.5089161396026611, Train Accuracy: 82.50%, Test Accuracy: 83.33%\n",
            "Epoch 30, Loss: 1.3737506866455078, Train Accuracy: 82.50%, Test Accuracy: 86.67%\n",
            "Epoch 40, Loss: 1.2607386112213135, Train Accuracy: 82.50%, Test Accuracy: 88.33%\n",
            "Epoch 50, Loss: 1.1453850269317627, Train Accuracy: 86.25%, Test Accuracy: 88.33%\n",
            "Epoch 60, Loss: 1.0479170083999634, Train Accuracy: 86.25%, Test Accuracy: 88.33%\n",
            "Epoch 70, Loss: 0.9587448835372925, Train Accuracy: 92.92%, Test Accuracy: 90.00%\n",
            "Epoch 80, Loss: 0.8830206394195557, Train Accuracy: 93.33%, Test Accuracy: 90.00%\n",
            "Epoch 90, Loss: 0.8198895454406738, Train Accuracy: 93.33%, Test Accuracy: 90.00%\n"
          ]
        }
      ]
    },
    {
      "cell_type": "code",
      "source": [
        "def clf_predict(X):\n",
        "    X_tensor = torch.tensor(X, dtype=torch.float32)\n",
        "    with torch.no_grad():\n",
        "        return model.forward(X_tensor).numpy().argmax(axis=1)\n",
        "\n",
        "plotit(X_test, y_test, clf=clf_predict, conts=[0.2])"
      ],
      "metadata": {
        "colab": {
          "base_uri": "https://localhost:8080/",
          "height": 508
        },
        "id": "0coNeacOFKKD",
        "outputId": "d0bcbf42-8f92-4fca-f58c-ac36d5bcd980"
      },
      "execution_count": 34,
      "outputs": [
        {
          "output_type": "stream",
          "name": "stderr",
          "text": [
            "<ipython-input-28-d21783d9f931>:31: UserWarning: The following kwargs were not used by contour: 'label'\n",
            "  plt.contour(x, y, z, conts, linewidths=[2], colors=ccolors, extent=extent, label='f(x)=0')\n"
          ]
        },
        {
          "output_type": "display_data",
          "data": {
            "text/plain": [
              "<Figure size 640x480 with 2 Axes>"
            ],
            "image/png": "[encoded data removed]"
          },
          "metadata": {}
        },
        {
          "output_type": "execute_result",
          "data": {
            "text/plain": [
              "[-1.816066722881887, 2.159242060239376, -2.27901883201439, 2.3980075313378446]"
            ]
          },
          "metadata": {},
          "execution_count": 34
        }
      ]
    },
    {
      "cell_type": "code",
      "source": [
        "np.max(clf_predict(X))"
      ],
      "metadata": {
        "colab": {
          "base_uri": "https://localhost:8080/"
        },
        "id": "3DZR-wsDGM-I",
        "outputId": "ee603211-83cb-451a-d3ab-aa5d22fd4dca"
      },
      "execution_count": 17,
      "outputs": [
        {
          "output_type": "execute_result",
          "data": {
            "text/plain": [
              "1.8737096"
            ]
          },
          "metadata": {},
          "execution_count": 17
        }
      ]
    },
    {
      "cell_type": "code",
      "source": [],
      "metadata": {
        "id": "TSXI6DsGGWbd"
      },
      "execution_count": null,
      "outputs": []
    }
  ]
}